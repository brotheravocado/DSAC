{
 "cells": [
  {
   "cell_type": "code",
   "execution_count": null,
   "metadata": {},
   "outputs": [],
   "source": [
    "import folium\n",
    "df[df['s_name']== '부산대역'].lat , df[df['s_name']=='부산대역'].lot\n",
    "\n",
    "map_osm = folium.Map(location = (35.230722,129.088165),zoom_start=13)\n",
    "# folium.Marker((35.230722,129.088165)).add_to(map_osm)\n",
    "map_osm\n",
    "\n",
    "# map_osm = folium.Map(location = (35.230722,129.088165),zoom_start=17,titles=\"Stamen tomer\")\n",
    "# folium.Marker((35.230722,129.088165)).add_to(map_osm)\n",
    "# map_osm"
   ]
  }
 ],
 "metadata": {
  "kernelspec": {
   "display_name": "Python 3",
   "language": "python",
   "name": "python3"
  },
  "language_info": {
   "codemirror_mode": {
    "name": "ipython",
    "version": 3
   },
   "file_extension": ".py",
   "mimetype": "text/x-python",
   "name": "python",
   "nbconvert_exporter": "python",
   "pygments_lexer": "ipython3",
   "version": "3.7.4"
  }
 },
 "nbformat": 4,
 "nbformat_minor": 2
}
